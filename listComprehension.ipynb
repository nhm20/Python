{
 "cells": [
  {
   "cell_type": "markdown",
   "id": "85b4ed0b-3c8f-44d3-9741-9774c6ccf73b",
   "metadata": {},
   "source": [
    "list Comprehensions provide concise way to create lists.It consists of brackets containing an expression followed by a for clause, then zero or more for or if clauses. The expressions can be anything,meaning you can put in all kinds of objects in lists"
   ]
  },
  {
   "cell_type": "code",
   "execution_count": 2,
   "id": "c67c1629-a41d-4bd6-829b-5d34ff4ec3cd",
   "metadata": {},
   "outputs": [],
   "source": [
    "l=[1,2,3,4,5,6,7,8]"
   ]
  },
  {
   "cell_type": "code",
   "execution_count": 8,
   "id": "c7e606ff-07a4-4e93-9c3c-0b36c3905ed9",
   "metadata": {},
   "outputs": [],
   "source": [
    "lst1=[i*i for i in l]"
   ]
  },
  {
   "cell_type": "code",
   "execution_count": 10,
   "id": "624142e1-fd1b-466d-af9d-32b64d5c7b40",
   "metadata": {},
   "outputs": [
    {
     "name": "stdout",
     "output_type": "stream",
     "text": [
      "[1, 4, 9, 16, 25, 36, 49, 64]\n"
     ]
    }
   ],
   "source": [
    "print(lst1)"
   ]
  },
  {
   "cell_type": "code",
   "execution_count": null,
   "id": "6b0c1491-653f-451d-8203-8b11c618a38d",
   "metadata": {},
   "outputs": [],
   "source": []
  },
  {
   "cell_type": "code",
   "execution_count": 12,
   "id": "7671bbb0-ba2d-4054-8217-4f23642fef4e",
   "metadata": {},
   "outputs": [],
   "source": [
    "lst1=[i*i for i in l if i%2==0]"
   ]
  },
  {
   "cell_type": "code",
   "execution_count": 14,
   "id": "232da194-c329-4a14-ac4d-1c9c00a58b38",
   "metadata": {},
   "outputs": [
    {
     "name": "stdout",
     "output_type": "stream",
     "text": [
      "[4, 16, 36, 64]\n"
     ]
    }
   ],
   "source": [
    "print(lst1)"
   ]
  },
  {
   "cell_type": "code",
   "execution_count": null,
   "id": "dd6cd2e2-eec2-40bc-b10b-da794b66cae4",
   "metadata": {},
   "outputs": [],
   "source": []
  }
 ],
 "metadata": {
  "kernelspec": {
   "display_name": "Python 3 (ipykernel)",
   "language": "python",
   "name": "python3"
  },
  "language_info": {
   "codemirror_mode": {
    "name": "ipython",
    "version": 3
   },
   "file_extension": ".py",
   "mimetype": "text/x-python",
   "name": "python",
   "nbconvert_exporter": "python",
   "pygments_lexer": "ipython3",
   "version": "3.12.4"
  }
 },
 "nbformat": 4,
 "nbformat_minor": 5
}
