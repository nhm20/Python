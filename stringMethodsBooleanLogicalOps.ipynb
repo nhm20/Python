{
 "cells": [
  {
   "cell_type": "code",
   "execution_count": 1,
   "id": "01231c7d-f646-4d41-9bc2-67c286b91d66",
   "metadata": {},
   "outputs": [
    {
     "data": {
      "text/plain": [
       "False"
      ]
     },
     "execution_count": 1,
     "metadata": {},
     "output_type": "execute_result"
    }
   ],
   "source": [
    "False"
   ]
  },
  {
   "cell_type": "code",
   "execution_count": 2,
   "id": "a1c0b8da-d9de-48dd-8a51-ff0a0755694a",
   "metadata": {},
   "outputs": [
    {
     "data": {
      "text/plain": [
       "bool"
      ]
     },
     "execution_count": 2,
     "metadata": {},
     "output_type": "execute_result"
    }
   ],
   "source": [
    "type(True)"
   ]
  },
  {
   "cell_type": "code",
   "execution_count": 8,
   "id": "95d20921-2849-4cba-8937-15befd331c21",
   "metadata": {},
   "outputs": [],
   "source": [
    "str='hello'"
   ]
  },
  {
   "cell_type": "code",
   "execution_count": 32,
   "id": "e4a94547-3457-4f49-99b4-a23f13ab0abb",
   "metadata": {},
   "outputs": [
    {
     "data": {
      "text/plain": [
       "False"
      ]
     },
     "execution_count": 32,
     "metadata": {},
     "output_type": "execute_result"
    }
   ],
   "source": [
    "str.isalnum() # returns True if all the characters are alphanumeric, meaning alphabet le and numbers"
   ]
  },
  {
   "cell_type": "code",
   "execution_count": 34,
   "id": "6e763259-44b9-4976-be05-67114409b720",
   "metadata": {},
   "outputs": [],
   "source": [
    "str='hello@'"
   ]
  },
  {
   "cell_type": "code",
   "execution_count": 30,
   "id": "52015c68-3baa-4e48-b17a-1478b8f1d851",
   "metadata": {},
   "outputs": [
    {
     "data": {
      "text/plain": [
       "False"
      ]
     },
     "execution_count": 30,
     "metadata": {},
     "output_type": "execute_result"
    }
   ],
   "source": [
    "str.isalnum()"
   ]
  },
  {
   "cell_type": "code",
   "execution_count": 7,
   "id": "5e297439-253e-4023-b727-3d6eb4322a75",
   "metadata": {},
   "outputs": [],
   "source": [
    "str='hello'"
   ]
  },
  {
   "cell_type": "code",
   "execution_count": 11,
   "id": "f1da1183-cfac-4ec9-89dc-c599aaf436cc",
   "metadata": {},
   "outputs": [
    {
     "data": {
      "text/plain": [
       "True"
      ]
     },
     "execution_count": 11,
     "metadata": {},
     "output_type": "execute_result"
    }
   ],
   "source": [
    "str.isalpha() #returns true if all chars are alphabets"
   ]
  },
  {
   "cell_type": "code",
   "execution_count": 15,
   "id": "723c5a5e-9d6d-4273-b093-b647faa745cb",
   "metadata": {},
   "outputs": [],
   "source": [
    "str='1212'"
   ]
  },
  {
   "cell_type": "code",
   "execution_count": 17,
   "id": "3e1a4810-f9e2-454c-aeba-a1339c1de656",
   "metadata": {},
   "outputs": [
    {
     "data": {
      "text/plain": [
       "True"
      ]
     },
     "execution_count": 17,
     "metadata": {},
     "output_type": "execute_result"
    }
   ],
   "source": [
    "str.isdigit() #returns true if all are digits"
   ]
  },
  {
   "cell_type": "code",
   "execution_count": 20,
   "id": "9b083be2-5f1b-4244-99ed-efebd1ace17c",
   "metadata": {},
   "outputs": [],
   "source": [
    "str='Hello' #returns True if all words in a text start with a upper case letter, AND  rest  are lower case letters"
   ]
  },
  {
   "cell_type": "code",
   "execution_count": 22,
   "id": "a093b944-29c8-4183-9eca-4fc61aaaf93c",
   "metadata": {},
   "outputs": [
    {
     "data": {
      "text/plain": [
       "True"
      ]
     },
     "execution_count": 22,
     "metadata": {},
     "output_type": "execute_result"
    }
   ],
   "source": [
    "str.istitle()"
   ]
  },
  {
   "cell_type": "code",
   "execution_count": 28,
   "id": "494e2609-e463-498a-9420-3b6ab10f5d90",
   "metadata": {},
   "outputs": [],
   "source": [
    "str='Hello'"
   ]
  },
  {
   "cell_type": "code",
   "execution_count": 26,
   "id": "75dafe5b-f63d-476d-bbff-e8f0d14ee335",
   "metadata": {},
   "outputs": [
    {
     "data": {
      "text/plain": [
       "False"
      ]
     },
     "execution_count": 26,
     "metadata": {},
     "output_type": "execute_result"
    }
   ],
   "source": [
    "str.isupper() #returns True if all the characters are in upper case"
   ]
  },
  {
   "cell_type": "code",
   "execution_count": 30,
   "id": "9cd73002-9b40-484c-8d34-20d4b123502f",
   "metadata": {},
   "outputs": [],
   "source": [
    "str='hello'"
   ]
  },
  {
   "cell_type": "code",
   "execution_count": 32,
   "id": "61daf73b-2fcd-40ba-b361-990dc073b8d6",
   "metadata": {},
   "outputs": [
    {
     "data": {
      "text/plain": [
       "True"
      ]
     },
     "execution_count": 32,
     "metadata": {},
     "output_type": "execute_result"
    }
   ],
   "source": [
    "str.islower()    #returns True if all the characters are in lower case"
   ]
  },
  {
   "cell_type": "code",
   "execution_count": 34,
   "id": "10be7634-b900-4bdf-8096-07d6addc193c",
   "metadata": {},
   "outputs": [],
   "source": [
    "str='hello'"
   ]
  },
  {
   "cell_type": "code",
   "execution_count": 36,
   "id": "2f4eefb4-dd91-4dd3-9823-ccc011efd21c",
   "metadata": {},
   "outputs": [
    {
     "data": {
      "text/plain": [
       "False"
      ]
     },
     "execution_count": 36,
     "metadata": {},
     "output_type": "execute_result"
    }
   ],
   "source": [
    "str.isspace() #returns True if all the characters in a string are whitespaces"
   ]
  },
  {
   "cell_type": "code",
   "execution_count": 40,
   "id": "60575cca-899b-4936-ba99-4c7701db2397",
   "metadata": {},
   "outputs": [],
   "source": [
    "str='hello'"
   ]
  },
  {
   "cell_type": "code",
   "execution_count": 42,
   "id": "06060055-25ca-4a89-8431-f2541b1bc61e",
   "metadata": {},
   "outputs": [
    {
     "data": {
      "text/plain": [
       "True"
      ]
     },
     "execution_count": 42,
     "metadata": {},
     "output_type": "execute_result"
    }
   ],
   "source": [
    "str.endswith('o')"
   ]
  },
  {
   "cell_type": "code",
   "execution_count": 44,
   "id": "aecdc9a1-5bbf-4a01-b0bb-bc9df632f161",
   "metadata": {},
   "outputs": [],
   "source": [
    "str='hello'"
   ]
  },
  {
   "cell_type": "code",
   "execution_count": 46,
   "id": "b0a451a6-02c4-4821-91a5-fc42c5c853b3",
   "metadata": {},
   "outputs": [
    {
     "data": {
      "text/plain": [
       "True"
      ]
     },
     "execution_count": 46,
     "metadata": {},
     "output_type": "execute_result"
    }
   ],
   "source": [
    "str.startswith('h')"
   ]
  },
  {
   "cell_type": "code",
   "execution_count": null,
   "id": "5650f157-1e79-43d1-85f9-eec74c94a9c6",
   "metadata": {},
   "outputs": [],
   "source": [
    "#logical "
   ]
  },
  {
   "cell_type": "code",
   "execution_count": 48,
   "id": "374f5511-7fee-4f20-9658-4974a3f2de84",
   "metadata": {},
   "outputs": [
    {
     "data": {
      "text/plain": [
       "True"
      ]
     },
     "execution_count": 48,
     "metadata": {},
     "output_type": "execute_result"
    }
   ],
   "source": [
    "True or False"
   ]
  },
  {
   "cell_type": "code",
   "execution_count": 50,
   "id": "6f171d57-d8a6-4569-8998-4bd8bc00b85c",
   "metadata": {},
   "outputs": [
    {
     "data": {
      "text/plain": [
       "False"
      ]
     },
     "execution_count": 50,
     "metadata": {},
     "output_type": "execute_result"
    }
   ],
   "source": [
    "True and False"
   ]
  },
  {
   "cell_type": "code",
   "execution_count": 52,
   "id": "0f41e77b-84ef-4d51-af99-97bb8b298d63",
   "metadata": {},
   "outputs": [
    {
     "data": {
      "text/plain": [
       "True"
      ]
     },
     "execution_count": 52,
     "metadata": {},
     "output_type": "execute_result"
    }
   ],
   "source": [
    "str.isalpha() or str.isnum()"
   ]
  },
  {
   "cell_type": "code",
   "execution_count": null,
   "id": "3357b89e-79df-47db-abb6-abbf45413d70",
   "metadata": {},
   "outputs": [],
   "source": []
  }
 ],
 "metadata": {
  "kernelspec": {
   "display_name": "Python 3 (ipykernel)",
   "language": "python",
   "name": "python3"
  },
  "language_info": {
   "codemirror_mode": {
    "name": "ipython",
    "version": 3
   },
   "file_extension": ".py",
   "mimetype": "text/x-python",
   "name": "python",
   "nbconvert_exporter": "python",
   "pygments_lexer": "ipython3",
   "version": "3.12.4"
  }
 },
 "nbformat": 4,
 "nbformat_minor": 5
}
