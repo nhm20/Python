{
 "cells": [
  {
   "cell_type": "code",
   "execution_count": 2,
   "id": "35992d16-14b9-4950-8bee-8f8becef733a",
   "metadata": {},
   "outputs": [],
   "source": [
    "def even_odd(num):\n",
    "    if num%2==0:\n",
    "        print(\"num is even\")\n",
    "    else:\n",
    "        print(\"num is odd\")"
   ]
  },
  {
   "cell_type": "code",
   "execution_count": 4,
   "id": "8513969b-d8f4-4edf-8339-5b08a8fea626",
   "metadata": {},
   "outputs": [
    {
     "name": "stdout",
     "output_type": "stream",
     "text": [
      "num is odd\n"
     ]
    }
   ],
   "source": [
    "even_odd(23)"
   ]
  },
  {
   "cell_type": "code",
   "execution_count": 12,
   "id": "c3791f17-37f5-4418-877f-f20eedd1bd42",
   "metadata": {},
   "outputs": [],
   "source": [
    "def hello_world():\n",
    "    print(\"Hello World\")"
   ]
  },
  {
   "cell_type": "code",
   "execution_count": 14,
   "id": "72e9a887-30e4-49e5-9b30-614a3a2e4628",
   "metadata": {},
   "outputs": [
    {
     "name": "stdout",
     "output_type": "stream",
     "text": [
      "Hello World\n",
      "None\n"
     ]
    }
   ],
   "source": [
    "val=hello_world()\n",
    "print(val)"
   ]
  },
  {
   "cell_type": "code",
   "execution_count": 16,
   "id": "75ba94e2-da71-4192-9c96-5748c3a93280",
   "metadata": {},
   "outputs": [],
   "source": [
    "def sum(n1,n2):\n",
    "    return n1+n2"
   ]
  },
  {
   "cell_type": "code",
   "execution_count": 18,
   "id": "d3d2eaaa-f11d-4e73-b7ac-0ba3c6e830e1",
   "metadata": {},
   "outputs": [
    {
     "name": "stdout",
     "output_type": "stream",
     "text": [
      "5\n"
     ]
    }
   ],
   "source": [
    "print(sum(2,3))"
   ]
  },
  {
   "cell_type": "code",
   "execution_count": 20,
   "id": "248730b4-019e-444b-b351-789c6b8dd3a0",
   "metadata": {},
   "outputs": [],
   "source": [
    "def fun(name,age=23):\n",
    "    print(\"My name is {} and age is {}\".format(name,age))"
   ]
  },
  {
   "cell_type": "code",
   "execution_count": 22,
   "id": "95ea4534-c2a5-4f0e-88a1-5182b0606fb3",
   "metadata": {},
   "outputs": [
    {
     "name": "stdout",
     "output_type": "stream",
     "text": [
      "My name is dk and age is 23\n"
     ]
    }
   ],
   "source": [
    "fun(\"dk\")"
   ]
  },
  {
   "cell_type": "code",
   "execution_count": 24,
   "id": "999d5469-a07e-43e5-a3f2-cd23a294e193",
   "metadata": {},
   "outputs": [],
   "source": [
    "def fun2(*args,**kwargs):\n",
    "    print(args)\n",
    "    print(kwargs)"
   ]
  },
  {
   "cell_type": "code",
   "execution_count": 26,
   "id": "3821506a-3c94-4e43-beed-aa4b5793395d",
   "metadata": {},
   "outputs": [
    {
     "name": "stdout",
     "output_type": "stream",
     "text": [
      "('raj', 'ram')\n",
      "{'age': 23, 'dob': 24}\n"
     ]
    }
   ],
   "source": [
    "fun2(\"raj\",\"ram\",age=23,dob=24)"
   ]
  },
  {
   "cell_type": "code",
   "execution_count": 28,
   "id": "d8b5e09f-cbb7-4f4f-b5cd-12fa2b3db037",
   "metadata": {},
   "outputs": [],
   "source": [
    "l=['raj', 'ram']\n",
    "d={'age': 23, 'dob': 24}"
   ]
  },
  {
   "cell_type": "code",
   "execution_count": 32,
   "id": "fa8b1d91-b762-485e-8124-629db087bfde",
   "metadata": {},
   "outputs": [
    {
     "name": "stdout",
     "output_type": "stream",
     "text": [
      "('raj', 'ram')\n",
      "{'age': 23, 'dob': 24}\n"
     ]
    }
   ],
   "source": [
    "fun2(*l,**d)"
   ]
  },
  {
   "cell_type": "code",
   "execution_count": 34,
   "id": "2ce6b31f-e00f-41ae-bdd7-fdcaed77e4a4",
   "metadata": {},
   "outputs": [],
   "source": [
    "def evenOddSum(lst):\n",
    "    even=0;\n",
    "    odd=0;\n",
    "    for i in lst:\n",
    "        if i%2==0:\n",
    "            even+=i\n",
    "        else:\n",
    "            odd+=i\n",
    "    return even,odd"
   ]
  },
  {
   "cell_type": "code",
   "execution_count": 36,
   "id": "5c51481d-4714-46f8-b358-12ea71a9f312",
   "metadata": {},
   "outputs": [
    {
     "data": {
      "text/plain": [
       "(12, 16)"
      ]
     },
     "execution_count": 36,
     "metadata": {},
     "output_type": "execute_result"
    }
   ],
   "source": [
    "evenOddSum([1,2,3,4,5,6,7])"
   ]
  },
  {
   "cell_type": "code",
   "execution_count": null,
   "id": "9031d44d-ed75-4095-81fb-a341022b7194",
   "metadata": {},
   "outputs": [],
   "source": []
  }
 ],
 "metadata": {
  "kernelspec": {
   "display_name": "Python 3 (ipykernel)",
   "language": "python",
   "name": "python3"
  },
  "language_info": {
   "codemirror_mode": {
    "name": "ipython",
    "version": 3
   },
   "file_extension": ".py",
   "mimetype": "text/x-python",
   "name": "python",
   "nbconvert_exporter": "python",
   "pygments_lexer": "ipython3",
   "version": "3.12.4"
  }
 },
 "nbformat": 4,
 "nbformat_minor": 5
}
