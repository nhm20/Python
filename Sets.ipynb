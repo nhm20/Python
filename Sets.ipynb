{
 "cells": [
  {
   "cell_type": "code",
   "execution_count": null,
   "id": "ca880eee-6b8e-46b8-823a-f530d6c27615",
   "metadata": {},
   "outputs": [],
   "source": [
    "#A Set is an unordered collection data type that is iterable, mutable, and has no duplicate elements.\n",
    "#Python's set class represents the mathematical notion of a set.\n",
    "#This is based on a data structure known as a hash table"
   ]
  },
  {
   "cell_type": "code",
   "execution_count": 2,
   "id": "9d1627e6-a27c-4a12-808b-c1c1cd51f0f5",
   "metadata": {},
   "outputs": [
    {
     "name": "stdout",
     "output_type": "stream",
     "text": [
      "set()\n"
     ]
    }
   ],
   "source": [
    "s=set()\n",
    "print(s)"
   ]
  },
  {
   "cell_type": "code",
   "execution_count": 4,
   "id": "2245d5a8-ff7d-4fcb-857d-aa6656b1cd26",
   "metadata": {},
   "outputs": [
    {
     "data": {
      "text/plain": [
       "set"
      ]
     },
     "execution_count": 4,
     "metadata": {},
     "output_type": "execute_result"
    }
   ],
   "source": [
    "type(s)"
   ]
  },
  {
   "cell_type": "code",
   "execution_count": 6,
   "id": "0086c5f3-6fc0-4265-8054-6ece22d678c5",
   "metadata": {},
   "outputs": [
    {
     "name": "stdout",
     "output_type": "stream",
     "text": [
      "<class 'set'>\n"
     ]
    }
   ],
   "source": [
    "print(type(s))"
   ]
  },
  {
   "cell_type": "code",
   "execution_count": 8,
   "id": "c84af8d2-b9b4-4ad1-88d0-8d52a7bcf5c8",
   "metadata": {},
   "outputs": [],
   "source": [
    "s={2,2,3,5,5}"
   ]
  },
  {
   "cell_type": "code",
   "execution_count": 10,
   "id": "dc43357a-c5b6-438c-aacd-e169909a20a1",
   "metadata": {},
   "outputs": [
    {
     "data": {
      "text/plain": [
       "{2, 3, 5}"
      ]
     },
     "execution_count": 10,
     "metadata": {},
     "output_type": "execute_result"
    }
   ],
   "source": [
    "s"
   ]
  },
  {
   "cell_type": "code",
   "execution_count": 12,
   "id": "875330f3-d6ea-427f-929c-16add0a3010f",
   "metadata": {},
   "outputs": [],
   "source": [
    "s={\"Iron\",'spider'}"
   ]
  },
  {
   "cell_type": "code",
   "execution_count": 14,
   "id": "79e8197d-fad9-4884-8b98-4ee2d1404332",
   "metadata": {},
   "outputs": [
    {
     "data": {
      "text/plain": [
       "{'Iron', 'spider'}"
      ]
     },
     "execution_count": 14,
     "metadata": {},
     "output_type": "execute_result"
    }
   ],
   "source": [
    "s"
   ]
  },
  {
   "cell_type": "code",
   "execution_count": 16,
   "id": "80bbbf60-d555-4aa9-b4ca-4a7edd405b63",
   "metadata": {},
   "outputs": [
    {
     "ename": "TypeError",
     "evalue": "'set' object is not subscriptable",
     "output_type": "error",
     "traceback": [
      "\u001b[1;31m---------------------------------------------------------------------------\u001b[0m",
      "\u001b[1;31mTypeError\u001b[0m                                 Traceback (most recent call last)",
      "Cell \u001b[1;32mIn[16], line 2\u001b[0m\n\u001b[0;32m      1\u001b[0m \u001b[38;5;66;03m#indexing\u001b[39;00m\n\u001b[1;32m----> 2\u001b[0m s[\u001b[38;5;241m0\u001b[39m]\n",
      "\u001b[1;31mTypeError\u001b[0m: 'set' object is not subscriptable"
     ]
    }
   ],
   "source": [
    "#indexing\n",
    "s[0]"
   ]
  },
  {
   "cell_type": "code",
   "execution_count": 18,
   "id": "29145403-1bce-4a39-a624-cea31ccb1ac8",
   "metadata": {},
   "outputs": [
    {
     "ename": "TypeError",
     "evalue": "'set' object is not subscriptable",
     "output_type": "error",
     "traceback": [
      "\u001b[1;31m---------------------------------------------------------------------------\u001b[0m",
      "\u001b[1;31mTypeError\u001b[0m                                 Traceback (most recent call last)",
      "Cell \u001b[1;32mIn[18], line 1\u001b[0m\n\u001b[1;32m----> 1\u001b[0m s[\u001b[38;5;124m'\u001b[39m\u001b[38;5;124mIron\u001b[39m\u001b[38;5;124m'\u001b[39m]\n",
      "\u001b[1;31mTypeError\u001b[0m: 'set' object is not subscriptable"
     ]
    }
   ],
   "source": [
    "s['Iron']"
   ]
  },
  {
   "cell_type": "code",
   "execution_count": 20,
   "id": "412d2dd9-6963-4404-9b58-5690ace8f93f",
   "metadata": {},
   "outputs": [],
   "source": [
    "#add\n",
    "s.add('hulk')"
   ]
  },
  {
   "cell_type": "code",
   "execution_count": 22,
   "id": "2f248afa-5029-40fb-b994-73211af53093",
   "metadata": {},
   "outputs": [
    {
     "data": {
      "text/plain": [
       "{'Iron', 'hulk', 'spider'}"
      ]
     },
     "execution_count": 22,
     "metadata": {},
     "output_type": "execute_result"
    }
   ],
   "source": [
    "s"
   ]
  },
  {
   "cell_type": "code",
   "execution_count": 28,
   "id": "32c439c3-e582-469d-a227-6adb79a014e4",
   "metadata": {},
   "outputs": [],
   "source": [
    "s2={\"Iron\",'spi'}"
   ]
  },
  {
   "cell_type": "code",
   "execution_count": 30,
   "id": "51031230-b5a1-4674-a0e0-f1590a209f1a",
   "metadata": {},
   "outputs": [
    {
     "data": {
      "text/plain": [
       "{'spi'}"
      ]
     },
     "execution_count": 30,
     "metadata": {},
     "output_type": "execute_result"
    }
   ],
   "source": [
    "s2.difference(s)"
   ]
  },
  {
   "cell_type": "code",
   "execution_count": 32,
   "id": "701bd13c-2506-4596-9059-6f0f82bbddf6",
   "metadata": {},
   "outputs": [
    {
     "data": {
      "text/plain": [
       "{'Iron', 'spi'}"
      ]
     },
     "execution_count": 32,
     "metadata": {},
     "output_type": "execute_result"
    }
   ],
   "source": [
    "s2"
   ]
  },
  {
   "cell_type": "code",
   "execution_count": 34,
   "id": "3b54a8f0-2681-4e76-82aa-3eaf1c67e9cc",
   "metadata": {},
   "outputs": [],
   "source": [
    "s2.difference_update(s)"
   ]
  },
  {
   "cell_type": "code",
   "execution_count": 36,
   "id": "f8c227ba-5109-4733-a5a5-e4f7024f317f",
   "metadata": {},
   "outputs": [
    {
     "data": {
      "text/plain": [
       "{'spi'}"
      ]
     },
     "execution_count": 36,
     "metadata": {},
     "output_type": "execute_result"
    }
   ],
   "source": [
    "s2"
   ]
  },
  {
   "cell_type": "code",
   "execution_count": 38,
   "id": "10e344eb-45b9-4297-a85b-3c9c009380b4",
   "metadata": {},
   "outputs": [],
   "source": [
    "s2={\"Iron\",'spi'}"
   ]
  },
  {
   "cell_type": "code",
   "execution_count": 40,
   "id": "46db1671-7b20-4a5c-bc5e-031b9f7d3267",
   "metadata": {},
   "outputs": [
    {
     "data": {
      "text/plain": [
       "{'Iron'}"
      ]
     },
     "execution_count": 40,
     "metadata": {},
     "output_type": "execute_result"
    }
   ],
   "source": [
    "s2.intersection(s)"
   ]
  },
  {
   "cell_type": "code",
   "execution_count": 42,
   "id": "1c24a27b-3431-4794-ae43-b1f088b7b389",
   "metadata": {},
   "outputs": [],
   "source": [
    "s2.intersection_update(s)"
   ]
  },
  {
   "cell_type": "code",
   "execution_count": 44,
   "id": "53f47719-b971-4470-9e34-dcc7dc9487d9",
   "metadata": {},
   "outputs": [
    {
     "data": {
      "text/plain": [
       "{'Iron'}"
      ]
     },
     "execution_count": 44,
     "metadata": {},
     "output_type": "execute_result"
    }
   ],
   "source": [
    "s2"
   ]
  },
  {
   "cell_type": "code",
   "execution_count": null,
   "id": "d41d13e3-33b6-4896-85d1-591f5b87018b",
   "metadata": {},
   "outputs": [],
   "source": []
  }
 ],
 "metadata": {
  "kernelspec": {
   "display_name": "Python 3 (ipykernel)",
   "language": "python",
   "name": "python3"
  },
  "language_info": {
   "codemirror_mode": {
    "name": "ipython",
    "version": 3
   },
   "file_extension": ".py",
   "mimetype": "text/x-python",
   "name": "python",
   "nbconvert_exporter": "python",
   "pygments_lexer": "ipython3",
   "version": "3.12.4"
  }
 },
 "nbformat": 4,
 "nbformat_minor": 5
}
