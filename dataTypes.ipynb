{
 "cells": [
  {
   "cell_type": "code",
   "execution_count": 1,
   "id": "6c1acc21-b838-4cf6-a27f-c51a79dec39c",
   "metadata": {},
   "outputs": [
    {
     "data": {
      "text/plain": [
       "2"
      ]
     },
     "execution_count": 1,
     "metadata": {},
     "output_type": "execute_result"
    }
   ],
   "source": [
    "1+1"
   ]
  },
  {
   "cell_type": "code",
   "execution_count": 3,
   "id": "46ab9cd2-e68d-4d7f-9fa3-62d4b6cd42a2",
   "metadata": {},
   "outputs": [
    {
     "data": {
      "text/plain": [
       "1.6666666666666667"
      ]
     },
     "execution_count": 3,
     "metadata": {},
     "output_type": "execute_result"
    }
   ],
   "source": [
    "5/3"
   ]
  },
  {
   "cell_type": "code",
   "execution_count": 5,
   "id": "4c8024b6-24ec-487c-aff8-fe15f109d554",
   "metadata": {},
   "outputs": [
    {
     "data": {
      "text/plain": [
       "1.0"
      ]
     },
     "execution_count": 5,
     "metadata": {},
     "output_type": "execute_result"
    }
   ],
   "source": [
    "5/5"
   ]
  },
  {
   "cell_type": "code",
   "execution_count": 7,
   "id": "dd384dcc-f0f8-4a83-846b-0c645136bde0",
   "metadata": {},
   "outputs": [
    {
     "data": {
      "text/plain": [
       "0"
      ]
     },
     "execution_count": 7,
     "metadata": {},
     "output_type": "execute_result"
    }
   ],
   "source": [
    "10%2"
   ]
  },
  {
   "cell_type": "code",
   "execution_count": 11,
   "id": "adc4835b-650c-4d48-81f1-08f145d3034d",
   "metadata": {},
   "outputs": [
    {
     "data": {
      "text/plain": [
       "'strstrstrstrstrstrstrstrstrstr'"
      ]
     },
     "execution_count": 11,
     "metadata": {},
     "output_type": "execute_result"
    }
   ],
   "source": [
    "10*'str'"
   ]
  },
  {
   "cell_type": "code",
   "execution_count": 13,
   "id": "82cf0bb2-c7db-4738-a7fc-c4a465dbf37a",
   "metadata": {},
   "outputs": [
    {
     "data": {
      "text/plain": [
       "100"
      ]
     },
     "execution_count": 13,
     "metadata": {},
     "output_type": "execute_result"
    }
   ],
   "source": [
    "10**2"
   ]
  },
  {
   "cell_type": "code",
   "execution_count": null,
   "id": "765e1f97-f12a-4dfb-9024-d88ff59b7b07",
   "metadata": {},
   "outputs": [],
   "source": [
    "#check the data types"
   ]
  },
  {
   "cell_type": "code",
   "execution_count": 17,
   "id": "8a7c41d6-8865-4419-9b4d-16643df2c6e8",
   "metadata": {},
   "outputs": [
    {
     "data": {
      "text/plain": [
       "bool"
      ]
     },
     "execution_count": 17,
     "metadata": {},
     "output_type": "execute_result"
    }
   ],
   "source": [
    "type(True)"
   ]
  },
  {
   "cell_type": "code",
   "execution_count": 19,
   "id": "dc801796-03dc-40df-8221-f845e5692181",
   "metadata": {},
   "outputs": [
    {
     "data": {
      "text/plain": [
       "str"
      ]
     },
     "execution_count": 19,
     "metadata": {},
     "output_type": "execute_result"
    }
   ],
   "source": [
    "type(\"HELLO\")"
   ]
  },
  {
   "cell_type": "code",
   "execution_count": null,
   "id": "4207c762-919f-4ae4-ab1d-398da1d68e69",
   "metadata": {},
   "outputs": [],
   "source": [
    "Strings"
   ]
  },
  {
   "cell_type": "code",
   "execution_count": 21,
   "id": "f13739c6-4c19-4178-a63f-277d0d9bdd45",
   "metadata": {},
   "outputs": [
    {
     "data": {
      "text/plain": [
       "'Hello'"
      ]
     },
     "execution_count": 21,
     "metadata": {},
     "output_type": "execute_result"
    }
   ],
   "source": [
    "\"Hello\""
   ]
  },
  {
   "cell_type": "code",
   "execution_count": 23,
   "id": "17fd667e-d142-4eeb-82b3-d031b3aa43ad",
   "metadata": {},
   "outputs": [
    {
     "data": {
      "text/plain": [
       "'hello'"
      ]
     },
     "execution_count": 23,
     "metadata": {},
     "output_type": "execute_result"
    }
   ],
   "source": [
    "'hello'"
   ]
  },
  {
   "cell_type": "code",
   "execution_count": 27,
   "id": "c105deb2-4443-44da-bae9-63eed7fcc1b0",
   "metadata": {},
   "outputs": [],
   "source": [
    "#variable assignment"
   ]
  },
  {
   "cell_type": "code",
   "execution_count": 29,
   "id": "aeca6d66-a4b9-43fe-980a-c140a13db10f",
   "metadata": {},
   "outputs": [],
   "source": [
    "a=10"
   ]
  },
  {
   "cell_type": "code",
   "execution_count": 38,
   "id": "a531dcd9-c7a8-43de-ba1a-b48b599d2f7c",
   "metadata": {},
   "outputs": [
    {
     "data": {
      "text/plain": [
       "int"
      ]
     },
     "execution_count": 38,
     "metadata": {},
     "output_type": "execute_result"
    }
   ],
   "source": [
    "type(a)"
   ]
  },
  {
   "cell_type": "code",
   "execution_count": 31,
   "id": "bbaf1e66-57a0-4b42-b57b-3b8a9a77c624",
   "metadata": {},
   "outputs": [],
   "source": [
    "a='Hlleo'"
   ]
  },
  {
   "cell_type": "code",
   "execution_count": 40,
   "id": "89c59b2e-58ae-47bc-80b1-10b5792a7568",
   "metadata": {},
   "outputs": [
    {
     "data": {
      "text/plain": [
       "int"
      ]
     },
     "execution_count": 40,
     "metadata": {},
     "output_type": "execute_result"
    }
   ],
   "source": [
    "type(a)"
   ]
  },
  {
   "cell_type": "code",
   "execution_count": null,
   "id": "5be1b968-43fa-407f-a77f-c19c0e502dbd",
   "metadata": {},
   "outputs": [],
   "source": [
    "#mathematical operation with variable assignment"
   ]
  },
  {
   "cell_type": "code",
   "execution_count": 46,
   "id": "ce2fd16f-bade-42e6-89c3-55069ecccb09",
   "metadata": {},
   "outputs": [],
   "source": [
    "a=10\n",
    "b=20"
   ]
  },
  {
   "cell_type": "code",
   "execution_count": 50,
   "id": "63e2cab3-3fd4-4ac4-adf9-cac9538f6934",
   "metadata": {},
   "outputs": [
    {
     "name": "stdout",
     "output_type": "stream",
     "text": [
      "200\n",
      "0.5\n",
      "10\n",
      "200.5\n"
     ]
    }
   ],
   "source": [
    "print(a*b)\n",
    "print(a/b)\n",
    "print(a%b)\n",
    "print((a*b)+(a/b))"
   ]
  },
  {
   "cell_type": "code",
   "execution_count": 54,
   "id": "fcede6f0-e289-4ed1-abe8-8bb1831d69f1",
   "metadata": {},
   "outputs": [
    {
     "name": "stdout",
     "output_type": "stream",
     "text": [
      "Hello\n"
     ]
    }
   ],
   "source": [
    "#print various ways\n",
    "print(\"Hello\")"
   ]
  },
  {
   "cell_type": "code",
   "execution_count": 56,
   "id": "78688944-8ebe-463d-9cc4-f845ca0ad95d",
   "metadata": {},
   "outputs": [],
   "source": [
    "first=\"hello\"\n",
    "last=\"world\""
   ]
  },
  {
   "cell_type": "code",
   "execution_count": 62,
   "id": "c2914b16-d568-4f10-b80f-e0004913cf48",
   "metadata": {},
   "outputs": [
    {
     "name": "stdout",
     "output_type": "stream",
     "text": [
      "first is hello and last is world\n"
     ]
    }
   ],
   "source": [
    "print(\"first is {} and last is {}\".format(first,last))"
   ]
  },
  {
   "cell_type": "code",
   "execution_count": 60,
   "id": "6dd37da9-d3a1-42da-9585-02b842e6fb72",
   "metadata": {},
   "outputs": [
    {
     "name": "stdout",
     "output_type": "stream",
     "text": [
      "first is hello and last is world\n"
     ]
    }
   ],
   "source": [
    "print(\"first is {f} and last is {l}\".format(f=first,l=last))"
   ]
  },
  {
   "cell_type": "code",
   "execution_count": 64,
   "id": "42e7f954-abf0-4a3d-be18-85eaea033b92",
   "metadata": {},
   "outputs": [
    {
     "data": {
      "text/plain": [
       "4"
      ]
     },
     "execution_count": 64,
     "metadata": {},
     "output_type": "execute_result"
    }
   ],
   "source": [
    "len(\"lell\")"
   ]
  },
  {
   "cell_type": "code",
   "execution_count": 66,
   "id": "772d4c6e-67e0-45cd-9183-f2b91c15c932",
   "metadata": {},
   "outputs": [
    {
     "data": {
      "text/plain": [
       "float"
      ]
     },
     "execution_count": 66,
     "metadata": {},
     "output_type": "execute_result"
    }
   ],
   "source": [
    "type(3.4)"
   ]
  },
  {
   "cell_type": "code",
   "execution_count": 68,
   "id": "bbe40683-5b3a-485a-af5c-dedb9611c227",
   "metadata": {},
   "outputs": [
    {
     "data": {
      "text/plain": [
       "list"
      ]
     },
     "execution_count": 68,
     "metadata": {},
     "output_type": "execute_result"
    }
   ],
   "source": [
    "type([2,23,4,'3'])"
   ]
  },
  {
   "cell_type": "code",
   "execution_count": null,
   "id": "ac924473-91a9-49e8-aa47-9effb4eee038",
   "metadata": {},
   "outputs": [],
   "source": []
  }
 ],
 "metadata": {
  "kernelspec": {
   "display_name": "Python 3 (ipykernel)",
   "language": "python",
   "name": "python3"
  },
  "language_info": {
   "codemirror_mode": {
    "name": "ipython",
    "version": 3
   },
   "file_extension": ".py",
   "mimetype": "text/x-python",
   "name": "python",
   "nbconvert_exporter": "python",
   "pygments_lexer": "ipython3",
   "version": "3.12.4"
  }
 },
 "nbformat": 4,
 "nbformat_minor": 5
}
