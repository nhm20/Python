{
 "cells": [
  {
   "cell_type": "code",
   "execution_count": 2,
   "id": "899a9366-8eef-416a-98c3-32dbe5a0da6f",
   "metadata": {},
   "outputs": [],
   "source": [
    "def evenOdd(i):\n",
    "    if(i%2==0):\n",
    "        return \"num {} is even\".format(i)\n",
    "    else:\n",
    "        return \"num {} is odd\".format(i)\n"
   ]
  },
  {
   "cell_type": "code",
   "execution_count": 4,
   "id": "df8684c0-a0d8-435c-a8aa-d93b67eae378",
   "metadata": {},
   "outputs": [
    {
     "data": {
      "text/plain": [
       "'num 34 is even'"
      ]
     },
     "execution_count": 4,
     "metadata": {},
     "output_type": "execute_result"
    }
   ],
   "source": [
    "evenOdd(34)"
   ]
  },
  {
   "cell_type": "code",
   "execution_count": 6,
   "id": "915b344a-9abf-4025-b838-d100f4efeb84",
   "metadata": {},
   "outputs": [
    {
     "data": {
      "text/plain": [
       "['num 23 is odd',\n",
       " 'num 36 is even',\n",
       " 'num 25 is odd',\n",
       " 'num 18 is even',\n",
       " 'num 12 is even',\n",
       " 'num 56 is even',\n",
       " 'num 89 is odd']"
      ]
     },
     "execution_count": 6,
     "metadata": {},
     "output_type": "execute_result"
    }
   ],
   "source": [
    "l=[23,36,25,18,12,56,89]\n",
    "list(map(evenOdd,l))"
   ]
  },
  {
   "cell_type": "code",
   "execution_count": null,
   "id": "6286de20-61f3-4944-89ae-13f3a632e342",
   "metadata": {},
   "outputs": [],
   "source": []
  },
  {
   "cell_type": "markdown",
   "id": "9fc57ddb-07ac-4299-8d9b-6e0d92c4abcd",
   "metadata": {},
   "source": [
    "Lambda Functions/ anonymous functions - with no name"
   ]
  },
  {
   "cell_type": "code",
   "execution_count": 8,
   "id": "269dc858-5e31-414c-ad77-553f577fc5ce",
   "metadata": {},
   "outputs": [],
   "source": [
    "add=lambda a,b:a+b"
   ]
  },
  {
   "cell_type": "code",
   "execution_count": 10,
   "id": "725938a7-2fda-47fc-a78b-9107b5d84fd5",
   "metadata": {},
   "outputs": [
    {
     "data": {
      "text/plain": [
       "5"
      ]
     },
     "execution_count": 10,
     "metadata": {},
     "output_type": "execute_result"
    }
   ],
   "source": [
    "add(2,3)"
   ]
  },
  {
   "cell_type": "code",
   "execution_count": null,
   "id": "fe77dc5e-c08e-4398-9a32-8393301703f8",
   "metadata": {},
   "outputs": [],
   "source": []
  },
  {
   "cell_type": "markdown",
   "id": "f4369be2-96fc-4d25-a153-d80f9d6120ee",
   "metadata": {},
   "source": [
    "Filter Function"
   ]
  },
  {
   "cell_type": "code",
   "execution_count": 12,
   "id": "adae3e39-2f94-4e38-a73e-02d7612ac4d0",
   "metadata": {},
   "outputs": [],
   "source": [
    "def evenOdd(i):\n",
    "    if(i%2==0):\n",
    "        return i"
   ]
  },
  {
   "cell_type": "code",
   "execution_count": 14,
   "id": "e6ad7bd5-61e3-485c-9608-5a53381dbaec",
   "metadata": {},
   "outputs": [],
   "source": [
    "l=[23,36,25,18,12,56,89]"
   ]
  },
  {
   "cell_type": "code",
   "execution_count": 16,
   "id": "9a4773b1-bd44-40a8-a734-c3353a473726",
   "metadata": {},
   "outputs": [
    {
     "data": {
      "text/plain": [
       "[36, 18, 12, 56]"
      ]
     },
     "execution_count": 16,
     "metadata": {},
     "output_type": "execute_result"
    }
   ],
   "source": [
    "list(filter(evenOdd,l))"
   ]
  },
  {
   "cell_type": "code",
   "execution_count": 20,
   "id": "6b2518fb-aa6f-49a1-a033-81712c392bd4",
   "metadata": {},
   "outputs": [
    {
     "data": {
      "text/plain": [
       "[36, 18, 12, 56]"
      ]
     },
     "execution_count": 20,
     "metadata": {},
     "output_type": "execute_result"
    }
   ],
   "source": [
    "list(filter(lambda i:i%2==0,l))"
   ]
  },
  {
   "cell_type": "code",
   "execution_count": null,
   "id": "1b1fdea5-8cbb-447b-ae5f-66541a06f849",
   "metadata": {},
   "outputs": [],
   "source": []
  }
 ],
 "metadata": {
  "kernelspec": {
   "display_name": "Python 3 (ipykernel)",
   "language": "python",
   "name": "python3"
  },
  "language_info": {
   "codemirror_mode": {
    "name": "ipython",
    "version": 3
   },
   "file_extension": ".py",
   "mimetype": "text/x-python",
   "name": "python",
   "nbconvert_exporter": "python",
   "pygments_lexer": "ipython3",
   "version": "3.12.4"
  }
 },
 "nbformat": 4,
 "nbformat_minor": 5
}
