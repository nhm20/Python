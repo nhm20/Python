{
 "cells": [
  {
   "cell_type": "code",
   "execution_count": 4,
   "id": "91477deb-5b7a-4878-a3a6-60e53e856983",
   "metadata": {},
   "outputs": [],
   "source": [
    "#A list is a data structure in Python that is a mutable, or changeable, ordered sequence of elements. \n",
    "#Each element or value that is inside of a list is called an item. \n",
    "#lists are defined by having values between square brackets [ ]\n"
   ]
  },
  {
   "cell_type": "code",
   "execution_count": 6,
   "id": "00968d58-8b3c-4a7d-8e3f-51864dbf9290",
   "metadata": {},
   "outputs": [
    {
     "data": {
      "text/plain": [
       "list"
      ]
     },
     "execution_count": 6,
     "metadata": {},
     "output_type": "execute_result"
    }
   ],
   "source": [
    "type([])"
   ]
  },
  {
   "cell_type": "code",
   "execution_count": 8,
   "id": "20278725-6fa3-4da3-b9f8-2ee20bd6b0f3",
   "metadata": {},
   "outputs": [],
   "source": [
    "l=[]"
   ]
  },
  {
   "cell_type": "code",
   "execution_count": 10,
   "id": "3f38b680-4e5a-4ef4-92e5-d366d3474869",
   "metadata": {},
   "outputs": [
    {
     "data": {
      "text/plain": [
       "list"
      ]
     },
     "execution_count": 10,
     "metadata": {},
     "output_type": "execute_result"
    }
   ],
   "source": [
    "type(l)"
   ]
  },
  {
   "cell_type": "code",
   "execution_count": 12,
   "id": "706d5e2e-0cd3-4c1c-9e13-4cdf5073c492",
   "metadata": {},
   "outputs": [],
   "source": [
    "li=list()"
   ]
  },
  {
   "cell_type": "code",
   "execution_count": 14,
   "id": "dbc04b59-2a6b-4dbb-acdf-a0948d6244f0",
   "metadata": {},
   "outputs": [
    {
     "data": {
      "text/plain": [
       "list"
      ]
     },
     "execution_count": 14,
     "metadata": {},
     "output_type": "execute_result"
    }
   ],
   "source": [
    "type(li)"
   ]
  },
  {
   "cell_type": "code",
   "execution_count": 16,
   "id": "abcad88b-5bd5-42a8-bb2c-4b8be3272e08",
   "metadata": {},
   "outputs": [],
   "source": [
    "l=['maths','che',324,344]"
   ]
  },
  {
   "cell_type": "code",
   "execution_count": 18,
   "id": "d5be429d-633f-4c8a-bee2-b9c3410d5091",
   "metadata": {},
   "outputs": [
    {
     "data": {
      "text/plain": [
       "4"
      ]
     },
     "execution_count": 18,
     "metadata": {},
     "output_type": "execute_result"
    }
   ],
   "source": [
    "len(l)"
   ]
  },
  {
   "cell_type": "code",
   "execution_count": 20,
   "id": "50e3c694-a084-4719-8caa-8af24bd19e51",
   "metadata": {},
   "outputs": [],
   "source": [
    "l.append('hell')"
   ]
  },
  {
   "cell_type": "code",
   "execution_count": 22,
   "id": "404c7026-5f7f-4136-9548-c121d19d3276",
   "metadata": {},
   "outputs": [
    {
     "data": {
      "text/plain": [
       "['maths', 'che', 324, 344, 'hell']"
      ]
     },
     "execution_count": 22,
     "metadata": {},
     "output_type": "execute_result"
    }
   ],
   "source": [
    "l"
   ]
  },
  {
   "cell_type": "code",
   "execution_count": 51,
   "id": "9448f00d-d716-4c05-b591-64b6b6cadb65",
   "metadata": {},
   "outputs": [],
   "source": [
    "l.append(['he','ed'])"
   ]
  },
  {
   "cell_type": "code",
   "execution_count": 53,
   "id": "46b49111-00cf-4ffd-908d-facf5a1096b2",
   "metadata": {},
   "outputs": [
    {
     "data": {
      "text/plain": [
       "['maths', 'che', 324, 344, ['he', 'ed']]"
      ]
     },
     "execution_count": 53,
     "metadata": {},
     "output_type": "execute_result"
    }
   ],
   "source": [
    "l"
   ]
  },
  {
   "cell_type": "code",
   "execution_count": 24,
   "id": "6610014c-c89d-4d51-82bc-0b0dcceeaea1",
   "metadata": {},
   "outputs": [
    {
     "data": {
      "text/plain": [
       "'maths'"
      ]
     },
     "execution_count": 24,
     "metadata": {},
     "output_type": "execute_result"
    }
   ],
   "source": [
    "l[0]"
   ]
  },
  {
   "cell_type": "code",
   "execution_count": 26,
   "id": "052b6141-f7c7-43e5-b8a4-b1c1f1ad9b15",
   "metadata": {},
   "outputs": [],
   "source": [
    "l.insert(2,'phy')"
   ]
  },
  {
   "cell_type": "code",
   "execution_count": 28,
   "id": "5c7be43a-0a7f-4c2b-88dc-e66a33d3b499",
   "metadata": {},
   "outputs": [
    {
     "data": {
      "text/plain": [
       "['maths', 'che', 'phy', 324, 344, 'hell']"
      ]
     },
     "execution_count": 28,
     "metadata": {},
     "output_type": "execute_result"
    }
   ],
   "source": [
    "l"
   ]
  },
  {
   "cell_type": "code",
   "execution_count": 30,
   "id": "8741a6e3-ce5a-4d60-b272-8c9e6cfff7ae",
   "metadata": {},
   "outputs": [
    {
     "data": {
      "text/plain": [
       "['maths', 'che', 'phy', 324, 344, 'hell']"
      ]
     },
     "execution_count": 30,
     "metadata": {},
     "output_type": "execute_result"
    }
   ],
   "source": [
    "l[:]"
   ]
  },
  {
   "cell_type": "code",
   "execution_count": 32,
   "id": "40c81c6a-a66b-4ebc-a31a-200ba674cd6b",
   "metadata": {},
   "outputs": [
    {
     "data": {
      "text/plain": [
       "['che', 'phy', 324, 344, 'hell']"
      ]
     },
     "execution_count": 32,
     "metadata": {},
     "output_type": "execute_result"
    }
   ],
   "source": [
    "l[1:]"
   ]
  },
  {
   "cell_type": "code",
   "execution_count": 47,
   "id": "e2a5b8a5-0967-433c-9dbb-ddc1130f65e2",
   "metadata": {},
   "outputs": [],
   "source": [
    "l=['maths','che',324,344]"
   ]
  },
  {
   "cell_type": "code",
   "execution_count": 49,
   "id": "39034e0a-02bb-45ba-9ef6-4b3bdf20c960",
   "metadata": {},
   "outputs": [
    {
     "data": {
      "text/plain": [
       "['che']"
      ]
     },
     "execution_count": 49,
     "metadata": {},
     "output_type": "execute_result"
    }
   ],
   "source": [
    "l[1:2]"
   ]
  },
  {
   "cell_type": "code",
   "execution_count": null,
   "id": "fbbe01c9-93b4-446f-94de-73a010f6c062",
   "metadata": {},
   "outputs": [],
   "source": [
    "#insert"
   ]
  },
  {
   "cell_type": "code",
   "execution_count": 55,
   "id": "cc842461-c03b-42a9-aa73-83111d1c5922",
   "metadata": {},
   "outputs": [],
   "source": [
    "l.insert(2,'phy')"
   ]
  },
  {
   "cell_type": "code",
   "execution_count": 57,
   "id": "c47ae158-c72d-4a74-b2e4-87be8e81e0e5",
   "metadata": {},
   "outputs": [
    {
     "data": {
      "text/plain": [
       "['maths', 'che', 'phy', 324, 344, ['he', 'ed']]"
      ]
     },
     "execution_count": 57,
     "metadata": {},
     "output_type": "execute_result"
    }
   ],
   "source": [
    "l"
   ]
  },
  {
   "cell_type": "code",
   "execution_count": 59,
   "id": "766aab5f-2992-4122-9baf-4cc0f563be25",
   "metadata": {},
   "outputs": [],
   "source": [
    "#extend"
   ]
  },
  {
   "cell_type": "code",
   "execution_count": 61,
   "id": "5c491e86-2318-48cf-a438-7ffa2d924f66",
   "metadata": {},
   "outputs": [],
   "source": [
    "l=[1,3,4,5,3]"
   ]
  },
  {
   "cell_type": "code",
   "execution_count": 65,
   "id": "2a004978-ec21-4dfa-a629-a2fb1d01048c",
   "metadata": {},
   "outputs": [],
   "source": [
    "l.extend([38,98])"
   ]
  },
  {
   "cell_type": "code",
   "execution_count": 67,
   "id": "f296ac26-7df7-4f53-9056-0e2082d3840c",
   "metadata": {},
   "outputs": [
    {
     "data": {
      "text/plain": [
       "[1, 3, 4, 5, 3, 38, 98]"
      ]
     },
     "execution_count": 67,
     "metadata": {},
     "output_type": "execute_result"
    }
   ],
   "source": [
    "l"
   ]
  },
  {
   "cell_type": "code",
   "execution_count": 69,
   "id": "57d1cde6-f0b8-4d72-96c8-7629a6070169",
   "metadata": {},
   "outputs": [],
   "source": [
    "#operations"
   ]
  },
  {
   "cell_type": "code",
   "execution_count": 71,
   "id": "c75e2e64-d9cf-4677-b06e-435236f9b6d3",
   "metadata": {},
   "outputs": [
    {
     "data": {
      "text/plain": [
       "152"
      ]
     },
     "execution_count": 71,
     "metadata": {},
     "output_type": "execute_result"
    }
   ],
   "source": [
    "sum(l)"
   ]
  },
  {
   "cell_type": "code",
   "execution_count": 73,
   "id": "14c01c82-b9de-441f-921f-0782bbc7d7e0",
   "metadata": {},
   "outputs": [
    {
     "data": {
      "text/plain": [
       "98"
      ]
     },
     "execution_count": 73,
     "metadata": {},
     "output_type": "execute_result"
    }
   ],
   "source": [
    "l.pop()"
   ]
  },
  {
   "cell_type": "code",
   "execution_count": 75,
   "id": "bd3d3587-22e5-4235-b793-a3b03d0a0dc1",
   "metadata": {},
   "outputs": [
    {
     "data": {
      "text/plain": [
       "5"
      ]
     },
     "execution_count": 75,
     "metadata": {},
     "output_type": "execute_result"
    }
   ],
   "source": [
    "l.pop(3)"
   ]
  },
  {
   "cell_type": "code",
   "execution_count": 77,
   "id": "bea1a8d3-b558-4cd1-a1c5-848d2160ef86",
   "metadata": {},
   "outputs": [],
   "source": [
    "#count"
   ]
  },
  {
   "cell_type": "code",
   "execution_count": 79,
   "id": "c75d4427-a4e9-4be5-8bfd-70eea0cf7984",
   "metadata": {},
   "outputs": [
    {
     "data": {
      "text/plain": [
       "2"
      ]
     },
     "execution_count": 79,
     "metadata": {},
     "output_type": "execute_result"
    }
   ],
   "source": [
    "l.count(3)"
   ]
  },
  {
   "cell_type": "code",
   "execution_count": 91,
   "id": "21f5dfd6-0daf-4e12-9e56-a58cfd834480",
   "metadata": {},
   "outputs": [
    {
     "data": {
      "text/plain": [
       "5"
      ]
     },
     "execution_count": 91,
     "metadata": {},
     "output_type": "execute_result"
    }
   ],
   "source": [
    "len(l)"
   ]
  },
  {
   "cell_type": "code",
   "execution_count": 97,
   "id": "996d6265-0648-4b6d-b077-fe99dc17b480",
   "metadata": {},
   "outputs": [
    {
     "data": {
      "text/plain": [
       "0"
      ]
     },
     "execution_count": 97,
     "metadata": {},
     "output_type": "execute_result"
    }
   ],
   "source": [
    "#index\n",
    "l.index(1)"
   ]
  },
  {
   "cell_type": "code",
   "execution_count": 108,
   "id": "fbc5670b-c336-4270-a410-9cf7aefd2c9e",
   "metadata": {},
   "outputs": [
    {
     "data": {
      "text/plain": [
       "0"
      ]
     },
     "execution_count": 108,
     "metadata": {},
     "output_type": "execute_result"
    }
   ],
   "source": [
    "l.index(1,0,3) #error if not found"
   ]
  },
  {
   "cell_type": "code",
   "execution_count": 110,
   "id": "2bb038d2-2de2-4225-b2da-dfacd31f1563",
   "metadata": {},
   "outputs": [
    {
     "data": {
      "text/plain": [
       "1"
      ]
     },
     "execution_count": 110,
     "metadata": {},
     "output_type": "execute_result"
    }
   ],
   "source": [
    "min(l)"
   ]
  },
  {
   "cell_type": "code",
   "execution_count": 112,
   "id": "31792cca-cde8-4ed0-b9f7-f9b9528aa6c9",
   "metadata": {},
   "outputs": [
    {
     "data": {
      "text/plain": [
       "38"
      ]
     },
     "execution_count": 112,
     "metadata": {},
     "output_type": "execute_result"
    }
   ],
   "source": [
    "max(l)"
   ]
  },
  {
   "cell_type": "code",
   "execution_count": 114,
   "id": "1de7d5e9-89a3-49da-912b-74df9926cf6d",
   "metadata": {},
   "outputs": [
    {
     "data": {
      "text/plain": [
       "[1, 3, 4, 3, 38, 1, 3, 4, 3, 38]"
      ]
     },
     "execution_count": 114,
     "metadata": {},
     "output_type": "execute_result"
    }
   ],
   "source": [
    "l*2"
   ]
  },
  {
   "cell_type": "code",
   "execution_count": null,
   "id": "fde103bf-38dd-4dfc-a19c-04891287d71e",
   "metadata": {},
   "outputs": [],
   "source": []
  }
 ],
 "metadata": {
  "kernelspec": {
   "display_name": "Python 3 (ipykernel)",
   "language": "python",
   "name": "python3"
  },
  "language_info": {
   "codemirror_mode": {
    "name": "ipython",
    "version": 3
   },
   "file_extension": ".py",
   "mimetype": "text/x-python",
   "name": "python",
   "nbconvert_exporter": "python",
   "pygments_lexer": "ipython3",
   "version": "3.12.4"
  }
 },
 "nbformat": 4,
 "nbformat_minor": 5
}
