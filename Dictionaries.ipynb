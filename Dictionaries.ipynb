{
 "cells": [
  {
   "cell_type": "code",
   "execution_count": 2,
   "id": "692c666e-2428-47c4-ae4c-47e0c8fe8234",
   "metadata": {},
   "outputs": [],
   "source": [
    "dic={}"
   ]
  },
  {
   "cell_type": "code",
   "execution_count": 4,
   "id": "59f12283-6196-4ba6-b5d4-c1be2dd51e7e",
   "metadata": {},
   "outputs": [
    {
     "data": {
      "text/plain": [
       "dict"
      ]
     },
     "execution_count": 4,
     "metadata": {},
     "output_type": "execute_result"
    }
   ],
   "source": [
    "type(dic)"
   ]
  },
  {
   "cell_type": "code",
   "execution_count": 6,
   "id": "25e27e36-88a9-4e63-bdde-4e26d66d6b8d",
   "metadata": {},
   "outputs": [
    {
     "data": {
      "text/plain": [
       "set"
      ]
     },
     "execution_count": 6,
     "metadata": {},
     "output_type": "execute_result"
    }
   ],
   "source": [
    "dic={1,2,3,4}\n",
    "type(dic)"
   ]
  },
  {
   "cell_type": "code",
   "execution_count": 8,
   "id": "1bb01fc7-7c68-4609-8c50-b297be2386c3",
   "metadata": {},
   "outputs": [
    {
     "data": {
      "text/plain": [
       "dict"
      ]
     },
     "execution_count": 8,
     "metadata": {},
     "output_type": "execute_result"
    }
   ],
   "source": [
    "dic={\"car1\":\"audi\",\"car2\":\"bmw\"}\n",
    "type(dic)"
   ]
  },
  {
   "cell_type": "code",
   "execution_count": 10,
   "id": "83e1dffc-fa0d-4c2b-a675-7ddd5c1410cf",
   "metadata": {},
   "outputs": [
    {
     "data": {
      "text/plain": [
       "dict"
      ]
     },
     "execution_count": 10,
     "metadata": {},
     "output_type": "execute_result"
    }
   ],
   "source": [
    "type(dict())"
   ]
  },
  {
   "cell_type": "code",
   "execution_count": 12,
   "id": "7e73c5e5-e071-4480-98f5-b71adb27016b",
   "metadata": {},
   "outputs": [
    {
     "data": {
      "text/plain": [
       "'audi'"
      ]
     },
     "execution_count": 12,
     "metadata": {},
     "output_type": "execute_result"
    }
   ],
   "source": [
    "dic[\"car1\"]"
   ]
  },
  {
   "cell_type": "code",
   "execution_count": 14,
   "id": "22d70729-b5d9-4931-8b8e-8a34bac9d6d8",
   "metadata": {},
   "outputs": [
    {
     "data": {
      "text/plain": [
       "{'car1': 'audi', 'car2': 'bmw'}"
      ]
     },
     "execution_count": 14,
     "metadata": {},
     "output_type": "execute_result"
    }
   ],
   "source": [
    "dic"
   ]
  },
  {
   "cell_type": "code",
   "execution_count": 16,
   "id": "9d6d2910-92ad-47d0-89b7-57a28d75ea72",
   "metadata": {},
   "outputs": [
    {
     "name": "stdout",
     "output_type": "stream",
     "text": [
      "car1\n",
      "car2\n"
     ]
    }
   ],
   "source": [
    "for x in dic:\n",
    "    print(x)"
   ]
  },
  {
   "cell_type": "code",
   "execution_count": 20,
   "id": "63988cc2-a38c-4ea5-8358-502a0b3eb144",
   "metadata": {},
   "outputs": [
    {
     "name": "stdout",
     "output_type": "stream",
     "text": [
      "audi\n",
      "bmw\n"
     ]
    }
   ],
   "source": [
    "for x in dic.values():\n",
    "    print(x)"
   ]
  },
  {
   "cell_type": "code",
   "execution_count": 22,
   "id": "434e3d98-b171-4ffa-9d13-32c674d39913",
   "metadata": {},
   "outputs": [
    {
     "name": "stdout",
     "output_type": "stream",
     "text": [
      "('car1', 'audi')\n",
      "('car2', 'bmw')\n"
     ]
    }
   ],
   "source": [
    "for x in dic.items():\n",
    "    print(x)"
   ]
  },
  {
   "cell_type": "code",
   "execution_count": 24,
   "id": "4f0d83e8-722a-465f-9720-9b26544a4259",
   "metadata": {},
   "outputs": [],
   "source": [
    "dic['car3']='benz'"
   ]
  },
  {
   "cell_type": "code",
   "execution_count": 26,
   "id": "a28650af-cac2-4dbc-832d-230caf17c846",
   "metadata": {},
   "outputs": [
    {
     "data": {
      "text/plain": [
       "{'car1': 'audi', 'car2': 'bmw', 'car3': 'benz'}"
      ]
     },
     "execution_count": 26,
     "metadata": {},
     "output_type": "execute_result"
    }
   ],
   "source": [
    "dic"
   ]
  },
  {
   "cell_type": "code",
   "execution_count": 28,
   "id": "d1fe8dd8-07dc-4f45-90ad-66c91e50c225",
   "metadata": {},
   "outputs": [],
   "source": [
    "dic['car1']=\"ford\""
   ]
  },
  {
   "cell_type": "code",
   "execution_count": 30,
   "id": "90491a38-330f-4e59-8ae5-fb9a8af969e9",
   "metadata": {},
   "outputs": [
    {
     "data": {
      "text/plain": [
       "{'car1': 'ford', 'car2': 'bmw', 'car3': 'benz'}"
      ]
     },
     "execution_count": 30,
     "metadata": {},
     "output_type": "execute_result"
    }
   ],
   "source": [
    "dic"
   ]
  },
  {
   "cell_type": "code",
   "execution_count": 32,
   "id": "3bfff9f4-f0d8-4644-aac4-c634164d491c",
   "metadata": {},
   "outputs": [],
   "source": [
    "#nested dictionary"
   ]
  },
  {
   "cell_type": "code",
   "execution_count": 35,
   "id": "a72155cf-f080-41d5-b196-d60fa0f8e159",
   "metadata": {},
   "outputs": [
    {
     "name": "stdout",
     "output_type": "stream",
     "text": [
      "{'c1': {'benz': 1960}, 'c2': {'audi': 2000}, 'c3': {'ferrari': 2020}}\n"
     ]
    }
   ],
   "source": [
    "car1={\"benz\":1960}\n",
    "car2={\"audi\":2000}\n",
    "car3={\"ferrari\":2020}\n",
    "cars={\"c1\":car1,\"c2\":car2,\"c3\":car3}\n",
    "print(cars)"
   ]
  },
  {
   "cell_type": "code",
   "execution_count": 43,
   "id": "1c8e3361-6e58-49e3-9c81-f15492b15b6e",
   "metadata": {},
   "outputs": [
    {
     "name": "stdout",
     "output_type": "stream",
     "text": [
      "{'benz': 1960}\n"
     ]
    }
   ],
   "source": [
    "print(cars['c1'])"
   ]
  },
  {
   "cell_type": "code",
   "execution_count": 46,
   "id": "2f7a192b-7bec-49e3-9fa6-36634d845ce3",
   "metadata": {},
   "outputs": [
    {
     "name": "stdout",
     "output_type": "stream",
     "text": [
      "1960\n"
     ]
    }
   ],
   "source": [
    "print(cars['c1']['benz'])"
   ]
  },
  {
   "cell_type": "code",
   "execution_count": null,
   "id": "5b29b384-60e8-4606-ab5f-bdd5129f0ff5",
   "metadata": {},
   "outputs": [],
   "source": []
  }
 ],
 "metadata": {
  "kernelspec": {
   "display_name": "Python 3 (ipykernel)",
   "language": "python",
   "name": "python3"
  },
  "language_info": {
   "codemirror_mode": {
    "name": "ipython",
    "version": 3
   },
   "file_extension": ".py",
   "mimetype": "text/x-python",
   "name": "python",
   "nbconvert_exporter": "python",
   "pygments_lexer": "ipython3",
   "version": "3.12.4"
  }
 },
 "nbformat": 4,
 "nbformat_minor": 5
}
